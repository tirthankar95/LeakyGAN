{
 "cells": [
  {
   "cell_type": "markdown",
   "metadata": {},
   "source": [
    "### `CHECK IF DISCRIMINATOR IS WORKING`"
   ]
  },
  {
   "cell_type": "code",
   "execution_count": 63,
   "metadata": {},
   "outputs": [],
   "source": [
    "import torch\n",
    "\n",
    "prediction = torch.tensor(\n",
    "        [[[1.6754e-01, 1.0241e-01, 1.0118e-01, 1.1274e-01, 1.1122e-01,\n",
    "          6.4137e-02, 1.1045e-01, 7.2103e-02, 9.1442e-02, 6.6781e-02],\n",
    "         [7.8641e-02, 1.4666e-01, 8.4925e-02, 1.2245e-01, 1.1324e-01,\n",
    "          3.7036e-02, 1.2326e-01, 7.3163e-02, 1.8443e-01, 3.6190e-02],\n",
    "         [8.7510e-02, 1.1756e-01, 9.1194e-02, 9.6609e-02, 1.0134e-01,\n",
    "          8.6279e-02, 1.0091e-01, 1.0784e-01, 1.3695e-01, 7.3808e-02],\n",
    "         [6.5571e-02, 1.3656e-01, 6.9171e-02, 7.9155e-02, 8.6372e-02,\n",
    "          8.2902e-02, 9.3761e-02, 1.2688e-01, 2.2357e-01, 3.6063e-02],\n",
    "         [1.0136e-01, 1.1621e-01, 6.7637e-02, 8.4011e-02, 6.6602e-02,\n",
    "          1.1623e-01, 1.0117e-01, 1.5402e-01, 1.4869e-01, 4.4073e-02],\n",
    "         [7.2566e-02, 1.4613e-01, 4.6898e-02, 5.9045e-02, 5.8558e-02,\n",
    "          1.1055e-01, 7.4996e-02, 1.7720e-01, 2.3187e-01, 2.2175e-02],\n",
    "         [1.1435e-01, 1.3066e-01, 2.1537e-02, 2.7184e-02, 1.8663e-02,\n",
    "          1.5350e-01, 2.5579e-02, 2.5551e-01, 2.4957e-01, 3.4550e-03],\n",
    "         [1.3243e-01, 6.9862e-02, 1.9937e-02, 2.1747e-02, 2.4232e-02,\n",
    "          2.6848e-01, 2.6702e-02, 2.3066e-01, 2.0391e-01, 2.0324e-03],\n",
    "         [3.2851e-01, 1.0193e-01, 6.0107e-02, 3.2246e-02, 5.7932e-02,\n",
    "          1.6452e-01, 6.9316e-02, 5.7145e-02, 3.5132e-02, 9.3168e-02],\n",
    "         [5.5859e-03, 1.9316e-02, 8.3392e-02, 6.5712e-02, 5.9946e-02,\n",
    "          1.0621e-02, 3.8407e-02, 1.4352e-02, 1.1444e-02, 6.9123e-01]],\n",
    "\n",
    "        [[9.2892e-02, 1.0244e-01, 8.9803e-02, 8.4542e-02, 9.4056e-02,\n",
    "          1.0940e-01, 9.1977e-02, 1.1599e-01, 1.0993e-01, 1.0897e-01],\n",
    "         [8.9468e-02, 1.2922e-01, 9.0892e-02, 1.0878e-01, 1.1008e-01,\n",
    "          5.3878e-02, 1.1742e-01, 8.8863e-02, 1.6114e-01, 5.0265e-02],\n",
    "         [7.8811e-02, 1.1109e-01, 8.6421e-02, 9.6105e-02, 9.4522e-02,\n",
    "          8.8247e-02, 9.7374e-02, 1.2214e-01, 1.6172e-01, 6.3568e-02],\n",
    "         [3.0322e-02, 1.4147e-01, 4.9006e-02, 8.3933e-02, 9.1481e-02,\n",
    "          5.4371e-02, 8.9595e-02, 1.3473e-01, 3.0046e-01, 2.4628e-02],\n",
    "         [6.8172e-02, 1.2405e-01, 8.1006e-02, 9.2775e-02, 9.3550e-02,\n",
    "          1.0779e-01, 8.2316e-02, 1.5335e-01, 1.5755e-01, 3.9441e-02],\n",
    "         [6.1058e-03, 1.7179e-01, 7.5420e-03, 1.6575e-02, 1.5243e-02,\n",
    "          4.5113e-02, 1.7420e-02, 1.9045e-01, 5.2907e-01, 6.8562e-04],\n",
    "         [7.9090e-02, 1.5862e-01, 4.1761e-02, 6.7833e-02, 6.3658e-02,\n",
    "          1.3060e-01, 5.9361e-02, 1.8462e-01, 1.9056e-01, 2.3906e-02],\n",
    "         [1.4174e-01, 7.8333e-02, 9.8689e-02, 8.4779e-02, 8.0771e-02,\n",
    "          9.6030e-02, 1.1714e-01, 7.1401e-02, 8.7003e-02, 1.4411e-01],\n",
    "         [5.1447e-01, 4.5957e-02, 1.0836e-02, 9.4093e-03, 1.0894e-02,\n",
    "          2.1720e-01, 7.7229e-03, 1.3223e-01, 4.9272e-02, 2.0042e-03],\n",
    "         [4.0129e-01, 7.6544e-02, 9.5512e-03, 1.3924e-02, 1.0117e-02,\n",
    "          1.9656e-01, 1.2938e-02, 1.7492e-01, 1.0229e-01, 1.8695e-03]],\n",
    "\n",
    "        [[2.3115e-01, 9.3126e-02, 1.0105e-01, 1.1973e-01, 1.1160e-01,\n",
    "          3.9626e-02, 1.2196e-01, 5.0364e-02, 7.7529e-02, 5.3865e-02],\n",
    "         [9.7941e-02, 8.8663e-02, 1.0225e-01, 9.8584e-02, 9.7789e-02,\n",
    "          1.1101e-01, 9.9213e-02, 1.0145e-01, 8.6364e-02, 1.1673e-01],\n",
    "         [6.3554e-02, 1.4721e-01, 7.6220e-02, 1.0487e-01, 9.0259e-02,\n",
    "          6.0087e-02, 1.0120e-01, 1.2055e-01, 1.9674e-01, 3.9308e-02],\n",
    "         [1.0398e-01, 1.0213e-01, 7.1093e-02, 8.1317e-02, 9.4411e-02,\n",
    "          1.0356e-01, 1.0920e-01, 1.1797e-01, 1.2413e-01, 9.2208e-02],\n",
    "         [5.6968e-02, 1.5268e-01, 5.1318e-02, 7.2694e-02, 5.8350e-02,\n",
    "          8.2796e-02, 8.0136e-02, 1.5897e-01, 2.6139e-01, 2.4692e-02],\n",
    "         [4.9190e-03, 1.4857e-01, 3.2427e-03, 5.9508e-03, 5.2030e-03,\n",
    "          6.3284e-02, 6.5147e-03, 2.4841e-01, 5.1383e-01, 7.7734e-05],\n",
    "         [6.8843e-02, 1.4906e-01, 5.0226e-02, 6.2186e-02, 7.1117e-02,\n",
    "          1.1687e-01, 7.5040e-02, 1.6895e-01, 2.2460e-01, 1.3104e-02],\n",
    "         [3.5837e-01, 4.6116e-02, 1.9534e-02, 1.5797e-02, 2.9962e-02,\n",
    "          2.4741e-01, 2.1944e-02, 1.6331e-01, 8.9489e-02, 8.0757e-03],\n",
    "         [5.0360e-01, 3.1030e-02, 4.4329e-02, 2.7012e-02, 4.0243e-02,\n",
    "          8.4175e-02, 6.2945e-02, 3.6638e-02, 4.9363e-02, 1.2066e-01],\n",
    "         [1.4606e-01, 7.5371e-02, 7.8831e-02, 7.1646e-02, 9.0177e-02,\n",
    "          1.3683e-01, 1.2373e-01, 9.0879e-02, 1.0769e-01, 7.8783e-02]],\n",
    "\n",
    "        [[2.4230e-01, 9.2001e-02, 9.7326e-02, 1.1899e-01, 1.1631e-01,\n",
    "          3.6844e-02, 1.2498e-01, 4.5622e-02, 8.1895e-02, 4.3739e-02],\n",
    "         [6.7917e-02, 1.3814e-01, 6.9965e-02, 1.0776e-01, 1.0828e-01,\n",
    "          3.8465e-02, 1.0862e-01, 8.9240e-02, 2.3335e-01, 3.8261e-02],\n",
    "         [1.4746e-02, 2.1010e-01, 5.1754e-02, 9.9607e-02, 8.9094e-02,\n",
    "          2.0625e-02, 7.6389e-02, 7.4304e-02, 3.5568e-01, 7.6970e-03],\n",
    "         [5.9341e-02, 1.3668e-01, 9.3972e-02, 1.0862e-01, 1.0663e-01,\n",
    "          8.3612e-02, 9.5356e-02, 1.0202e-01, 1.5481e-01, 5.8954e-02],\n",
    "         [1.7980e-03, 1.2559e-01, 3.9536e-03, 8.3023e-03, 8.0785e-03,\n",
    "          1.9125e-02, 1.0219e-02, 1.2665e-01, 6.9610e-01, 1.8227e-04],\n",
    "         [5.1826e-02, 1.5449e-01, 3.0325e-02, 4.6980e-02, 3.6414e-02,\n",
    "          9.1029e-02, 4.6768e-02, 2.0233e-01, 3.2794e-01, 1.1902e-02],\n",
    "         [5.8077e-02, 3.7838e-02, 1.3894e-01, 1.2761e-01, 1.0016e-01,\n",
    "          3.6946e-02, 7.8937e-02, 2.8029e-02, 2.0914e-02, 3.7255e-01],\n",
    "         [2.2886e-01, 6.8733e-02, 5.4400e-03, 7.5102e-03, 8.2220e-03,\n",
    "          2.4658e-01, 6.6497e-03, 2.7497e-01, 1.5242e-01, 6.1840e-04],\n",
    "         [6.4843e-01, 2.5846e-02, 8.1989e-03, 6.5758e-03, 1.1461e-02,\n",
    "          1.6464e-01, 1.7936e-02, 6.1785e-02, 4.9539e-02, 5.5893e-03],\n",
    "         [1.6122e-03, 4.0529e-03, 2.9717e-02, 3.8029e-02, 3.7940e-02,\n",
    "          7.6267e-04, 2.5484e-02, 1.7982e-03, 3.4836e-03, 8.5712e-01]]],\n",
    "        requires_grad = True, \n",
    "        dtype = torch.float32\n",
    "    )"
   ]
  },
  {
   "cell_type": "code",
   "execution_count": 64,
   "metadata": {},
   "outputs": [],
   "source": [
    "real_data = torch.tensor(\n",
    "        [[0, 6, 1, 8, 7, 5, 0, 0, 0, 0],\n",
    "        [0, 6, 1, 8, 7, 5, 0, 0, 0, 0],\n",
    "        [0, 4, 1, 8, 7, 5, 0, 0, 0, 0],\n",
    "        [0, 6, 1, 8, 7, 5, 0, 0, 0, 0]],\n",
    "        dtype = torch.float32\n",
    "        )"
   ]
  },
  {
   "cell_type": "markdown",
   "metadata": {},
   "source": [
    "### 1. Update pre-worker -> indirectly via generator data.\n",
    "\n",
    "The above prediction has been generated by the generator.\n",
    "\n",
    "real_data is what the worker should generate. \n",
    "\n",
    "Use categorical loss to shift the probability in this direciton."
   ]
  },
  {
   "cell_type": "code",
   "execution_count": 65,
   "metadata": {},
   "outputs": [],
   "source": [
    "from torch.nn import CrossEntropyLoss\n",
    "import torch.optim as optim"
   ]
  },
  {
   "cell_type": "markdown",
   "metadata": {},
   "source": [
    "### Using Categorical Loss.\n",
    "\n",
    "This criterion computes the cross entropy loss between input logits and target.\n",
    "\n",
    "The input is expected to contain the **unnormalized logits** for each class (which do not need to be positive or sum to 1, in general). \n",
    "\n",
    "The target that this criterion expects should contain either:\n",
    "- Class indices in the range [0,C)\n",
    "- Probabilities for each class"
   ]
  },
  {
   "cell_type": "code",
   "execution_count": 66,
   "metadata": {},
   "outputs": [
    {
     "name": "stdout",
     "output_type": "stream",
     "text": [
      "tensor(2.3209, grad_fn=<NllLoss2DBackward0>)\n",
      "tensor(2.3209, grad_fn=<NllLoss2DBackward0>)\n",
      "tensor(2.3209, grad_fn=<NllLoss2DBackward0>)\n",
      "tensor(2.3209, grad_fn=<NllLoss2DBackward0>)\n",
      "tensor(2.3209, grad_fn=<NllLoss2DBackward0>)\n",
      "tensor(2.3209, grad_fn=<NllLoss2DBackward0>)\n",
      "tensor(2.3209, grad_fn=<NllLoss2DBackward0>)\n",
      "tensor(2.3209, grad_fn=<NllLoss2DBackward0>)\n",
      "tensor(2.3209, grad_fn=<NllLoss2DBackward0>)\n",
      "tensor(2.3209, grad_fn=<NllLoss2DBackward0>)\n"
     ]
    }
   ],
   "source": [
    "# I am using class indices.\n",
    "epochs = 10\n",
    "loss = CrossEntropyLoss()\n",
    "real_data = real_data.long()\n",
    "alpha = 0.01\n",
    "\n",
    "for _ in range(epochs): \n",
    "    output = loss(prediction, real_data)\n",
    "    output.backward()\n",
    "    print(output)"
   ]
  },
  {
   "cell_type": "markdown",
   "metadata": {},
   "source": [
    "### Pre Manager Loss\n",
    "\n",
    "1. Loss should always decrease and it will always decrease. \n",
    "\n",
    "2. Just because loss is decreasing we can't say if the code is working or not, \n",
    "or whether the sign of loss is correct.\n",
    "\n",
    "3. F.cosine_similarity is 0 for same vector. It should decarese from 1 -> 0. \n",
    "\n",
    "    F.cosine_similarity must have two dimensions atleast.\n",
    "\n",
    "4. There shouldn't be a negative sign."
   ]
  },
  {
   "cell_type": "code",
   "execution_count": 80,
   "metadata": {},
   "outputs": [
    {
     "name": "stdout",
     "output_type": "stream",
     "text": [
      "tensor([1.])\n",
      "tensor([0.])\n"
     ]
    }
   ],
   "source": [
    "import torch.nn.functional as F\n",
    "\n",
    "# Same vector\n",
    "v1 = torch.tensor([[1, 1]], dtype=torch.float32)\n",
    "v2 = torch.tensor([[2, 2]], dtype=torch.float32)\n",
    "print(F.cosine_similarity(v1, v2))\n",
    "\n",
    "v1 = torch.tensor([[0.1, 0.1]], dtype=torch.float32)\n",
    "v2 = torch.tensor([[-0.1, 0.1]], dtype=torch.float32)\n",
    "print(F.cosine_similarity(v1, v2))"
   ]
  },
  {
   "cell_type": "code",
   "execution_count": 85,
   "metadata": {},
   "outputs": [
    {
     "name": "stdout",
     "output_type": "stream",
     "text": [
      "tensor(0.8333) tensor(0.5000)\n"
     ]
    }
   ],
   "source": [
    "a = torch.tensor([[1, 1, 0], [0, 1, 2]], dtype=torch.float32)\n",
    "b = torch.tensor([[1, 1, 0], [0, 1, 0]], dtype=torch.float32)\n",
    "\n",
    "print(torch.mean(a), torch.mean(b))"
   ]
  },
  {
   "cell_type": "code",
   "execution_count": 2,
   "metadata": {},
   "outputs": [],
   "source": [
    "import torch\n",
    "\n",
    "arr  = torch.tensor(\n",
    "        [[0.4165, 0.5835],\n",
    "        [0.3946, 0.6054],\n",
    "        [0.3713, 0.6287],\n",
    "        [0.3870, 0.6130]])\n",
    "brr = arr.numpy()"
   ]
  },
  {
   "cell_type": "code",
   "execution_count": 4,
   "metadata": {},
   "outputs": [
    {
     "data": {
      "text/plain": [
       "array([0.16700003, 0.21080002, 0.2574    , 0.22599998], dtype=float32)"
      ]
     },
     "execution_count": 4,
     "metadata": {},
     "output_type": "execute_result"
    }
   ],
   "source": [
    "brr[:,0] * -1 + brr[:,1] * 1"
   ]
  },
  {
   "cell_type": "code",
   "execution_count": 5,
   "metadata": {},
   "outputs": [
    {
     "data": {
      "text/plain": [
       "array([[0.4165, 0.5835],\n",
       "       [0.3946, 0.6054],\n",
       "       [0.3713, 0.6287],\n",
       "       [0.387 , 0.613 ]], dtype=float32)"
      ]
     },
     "execution_count": 5,
     "metadata": {},
     "output_type": "execute_result"
    }
   ],
   "source": [
    "brr"
   ]
  },
  {
   "cell_type": "code",
   "execution_count": null,
   "metadata": {},
   "outputs": [],
   "source": []
  }
 ],
 "metadata": {
  "kernelspec": {
   "display_name": "base",
   "language": "python",
   "name": "python3"
  },
  "language_info": {
   "codemirror_mode": {
    "name": "ipython",
    "version": 3
   },
   "file_extension": ".py",
   "mimetype": "text/x-python",
   "name": "python",
   "nbconvert_exporter": "python",
   "pygments_lexer": "ipython3",
   "version": "3.9.7"
  }
 },
 "nbformat": 4,
 "nbformat_minor": 2
}
