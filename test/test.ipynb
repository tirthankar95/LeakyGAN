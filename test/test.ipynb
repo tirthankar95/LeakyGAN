{
 "cells": [
  {
   "cell_type": "code",
   "execution_count": 67,
   "metadata": {},
   "outputs": [],
   "source": [
    "import torch"
   ]
  },
  {
   "cell_type": "code",
   "execution_count": 68,
   "metadata": {},
   "outputs": [],
   "source": [
    "x = torch.tensor([1, 2, 3])\n",
    "w = torch.tensor([1, 1, 1], requires_grad=True, dtype = torch.float32)\n",
    "y = (x*w.T + 2).mean()\n",
    "y.backward()"
   ]
  },
  {
   "cell_type": "code",
   "execution_count": 69,
   "metadata": {},
   "outputs": [],
   "source": [
    "x.grad"
   ]
  },
  {
   "cell_type": "code",
   "execution_count": 70,
   "metadata": {},
   "outputs": [
    {
     "data": {
      "text/plain": [
       "tensor([0.3333, 0.6667, 1.0000])"
      ]
     },
     "execution_count": 70,
     "metadata": {},
     "output_type": "execute_result"
    }
   ],
   "source": [
    "w.grad"
   ]
  },
  {
   "cell_type": "code",
   "execution_count": 71,
   "metadata": {},
   "outputs": [],
   "source": [
    "import torch.nn as nn\n",
    "import torch.optim as optim"
   ]
  },
  {
   "cell_type": "code",
   "execution_count": 72,
   "metadata": {},
   "outputs": [],
   "source": [
    "import seaborn as sns \n",
    "import matplotlib.pyplot as plt \n",
    "\n",
    "class NN(nn.Module):\n",
    "    def __init__(self, input_size, hidden_size, output_size):\n",
    "        super(NN, self).__init__()\n",
    "        self.fc1 = nn.Linear(input_size, hidden_size)\n",
    "        self.fc2 = nn.Linear(hidden_size, output_size)\n",
    "    def forward(self, x):\n",
    "        return self.fc2(self.fc1(x))\n",
    "    def get_params(self):\n",
    "        return [param for param in self.parameters()]\n",
    "    \n",
    "model = NN(2, 8, 1)\n",
    "w_actual = torch.tensor([1, 2], dtype = torch.float32).reshape(2, 1)\n",
    "x = torch.randn(100, 2)\n",
    "y = torch.matmul(x, w_actual) + torch.randn(100, 1)/100"
   ]
  },
  {
   "cell_type": "code",
   "execution_count": 73,
   "metadata": {},
   "outputs": [],
   "source": [
    "optimizer = optim.Adam(model.parameters(), lr = 0.01)\n",
    "res = []\n",
    "part = 20\n",
    "x1, x2 = x[:part], x[part:]\n",
    "\n",
    "res.extend([model(x1), model(x2)])"
   ]
  },
  {
   "cell_type": "code",
   "execution_count": 75,
   "metadata": {},
   "outputs": [],
   "source": [
    "loss1 = ((y[:part] - res[0])**2).mean()\n",
    "loss2 = ((y[part:] - res[1])**2).mean()"
   ]
  },
  {
   "cell_type": "code",
   "execution_count": 76,
   "metadata": {},
   "outputs": [
    {
     "name": "stdout",
     "output_type": "stream",
     "text": [
      "[Parameter containing:\n",
      "tensor([[-0.0536,  0.5655],\n",
      "        [-0.5516, -0.3982],\n",
      "        [ 0.0339, -0.3195],\n",
      "        [-0.0646,  0.3683],\n",
      "        [-0.3319,  0.5971],\n",
      "        [-0.5884,  0.5134],\n",
      "        [-0.5329,  0.2987],\n",
      "        [-0.2393,  0.0483]], requires_grad=True), Parameter containing:\n",
      "tensor([-0.1547, -0.5307,  0.6067, -0.5109,  0.0016, -0.5031, -0.6535,  0.3284],\n",
      "       requires_grad=True), Parameter containing:\n",
      "tensor([[-0.0588,  0.1157, -0.2196,  0.1373, -0.3364,  0.1772, -0.2107,  0.3511]],\n",
      "       requires_grad=True), Parameter containing:\n",
      "tensor([-0.3335], requires_grad=True)]\n",
      "[Parameter containing:\n",
      "tensor([[-0.0636,  0.5555],\n",
      "        [-0.5416, -0.3882],\n",
      "        [ 0.0239, -0.3295],\n",
      "        [-0.0546,  0.3783],\n",
      "        [-0.3419,  0.5871],\n",
      "        [-0.5784,  0.5234],\n",
      "        [-0.5429,  0.2887],\n",
      "        [-0.2293,  0.0583]], requires_grad=True), Parameter containing:\n",
      "tensor([-0.1647, -0.5207,  0.5967, -0.5009, -0.0084, -0.4931, -0.6635,  0.3384],\n",
      "       requires_grad=True), Parameter containing:\n",
      "tensor([[-0.0488,  0.1057, -0.2296,  0.1473, -0.3264,  0.1672, -0.2207,  0.3411]],\n",
      "       requires_grad=True), Parameter containing:\n",
      "tensor([-0.3235], requires_grad=True)]\n"
     ]
    }
   ],
   "source": [
    "print(model.get_params())\n",
    "optimizer.zero_grad()\n",
    "loss1.backward()\n",
    "loss2.backward()\n",
    "optimizer.step()\n",
    "print(model.get_params())"
   ]
  }
 ],
 "metadata": {
  "kernelspec": {
   "display_name": "base",
   "language": "python",
   "name": "python3"
  },
  "language_info": {
   "codemirror_mode": {
    "name": "ipython",
    "version": 3
   },
   "file_extension": ".py",
   "mimetype": "text/x-python",
   "name": "python",
   "nbconvert_exporter": "python",
   "pygments_lexer": "ipython3",
   "version": "3.9.7"
  }
 },
 "nbformat": 4,
 "nbformat_minor": 2
}
